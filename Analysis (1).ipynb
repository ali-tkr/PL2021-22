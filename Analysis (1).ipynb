{
 "cells": [
  {
   "cell_type": "markdown",
   "id": "39784e19-fabd-4bde-a5d5-015f999956e9",
   "metadata": {
    "tags": []
   },
   "source": [
    "# ENGLISH PREMIER LEAGUE 2021-2022 ANALYSIS "
   ]
  },
  {
   "cell_type": "markdown",
   "id": "9036ce38-8c63-4ee0-8d19-e1313aed306f",
   "metadata": {},
   "source": [
    "In this notebook, I will be analyzing the 2021-22 Premier League that crowned Manchester City for the 3rd time in 4 years. The run for the title has been once again epic between ManCity and Liverpool.  \n",
    "\n",
    "The dataset is from Kaggle and gathers the 380 games that took place during the season. We have a couple of information on each game on the home and away team, goals scored, shots taken, shots on target, corners, cards...\n",
    "\n",
    "First of all, my analysis will focus on the rivalry between ManCity and Liverpool, the 2 best teams in the league for the last 4 years. Then, I will look at the impact of leading at HalfTime.  "
   ]
  },
  {
   "cell_type": "code",
   "execution_count": 1,
   "id": "6f95e3c4-82b5-4c2c-9be0-0113a466663f",
   "metadata": {},
   "outputs": [],
   "source": [
    "import pandas as pd\n",
    "import seaborn as sns\n",
    "import numpy as np\n",
    "import matplotlib.pyplot as plt\n"
   ]
  },
  {
   "cell_type": "code",
   "execution_count": 2,
   "id": "6fee8920-8c87-4264-9e04-78a51a9a81f6",
   "metadata": {},
   "outputs": [],
   "source": [
    "df = pd.read_csv('soccer21-22.csv')"
   ]
  },
  {
   "cell_type": "markdown",
   "id": "dfed368f-0596-4fca-9a0a-83c86db3278d",
   "metadata": {
    "tags": []
   },
   "source": [
    "## English Premier League overall"
   ]
  },
  {
   "cell_type": "code",
   "execution_count": 3,
   "id": "6d4c3897-828d-4055-975d-21fae0dff85a",
   "metadata": {},
   "outputs": [
    {
     "data": {
      "text/html": [
       "<div>\n",
       "<style scoped>\n",
       "    .dataframe tbody tr th:only-of-type {\n",
       "        vertical-align: middle;\n",
       "    }\n",
       "\n",
       "    .dataframe tbody tr th {\n",
       "        vertical-align: top;\n",
       "    }\n",
       "\n",
       "    .dataframe thead th {\n",
       "        text-align: right;\n",
       "    }\n",
       "</style>\n",
       "<table border=\"1\" class=\"dataframe\">\n",
       "  <thead>\n",
       "    <tr style=\"text-align: right;\">\n",
       "      <th></th>\n",
       "      <th>Date</th>\n",
       "      <th>HomeTeam</th>\n",
       "      <th>AwayTeam</th>\n",
       "      <th>FTHG</th>\n",
       "      <th>FTAG</th>\n",
       "      <th>FTR</th>\n",
       "      <th>HTHG</th>\n",
       "      <th>HTAG</th>\n",
       "      <th>HTR</th>\n",
       "      <th>Referee</th>\n",
       "      <th>...</th>\n",
       "      <th>HST</th>\n",
       "      <th>AST</th>\n",
       "      <th>HF</th>\n",
       "      <th>AF</th>\n",
       "      <th>HC</th>\n",
       "      <th>AC</th>\n",
       "      <th>HY</th>\n",
       "      <th>AY</th>\n",
       "      <th>HR</th>\n",
       "      <th>AR</th>\n",
       "    </tr>\n",
       "  </thead>\n",
       "  <tbody>\n",
       "    <tr>\n",
       "      <th>0</th>\n",
       "      <td>13/08/2021</td>\n",
       "      <td>Brentford</td>\n",
       "      <td>Arsenal</td>\n",
       "      <td>2</td>\n",
       "      <td>0</td>\n",
       "      <td>H</td>\n",
       "      <td>1</td>\n",
       "      <td>0</td>\n",
       "      <td>H</td>\n",
       "      <td>M Oliver</td>\n",
       "      <td>...</td>\n",
       "      <td>3</td>\n",
       "      <td>4</td>\n",
       "      <td>12</td>\n",
       "      <td>8</td>\n",
       "      <td>2</td>\n",
       "      <td>5</td>\n",
       "      <td>0</td>\n",
       "      <td>0</td>\n",
       "      <td>0</td>\n",
       "      <td>0</td>\n",
       "    </tr>\n",
       "    <tr>\n",
       "      <th>1</th>\n",
       "      <td>14/08/2021</td>\n",
       "      <td>Man United</td>\n",
       "      <td>Leeds</td>\n",
       "      <td>5</td>\n",
       "      <td>1</td>\n",
       "      <td>H</td>\n",
       "      <td>1</td>\n",
       "      <td>0</td>\n",
       "      <td>H</td>\n",
       "      <td>P Tierney</td>\n",
       "      <td>...</td>\n",
       "      <td>8</td>\n",
       "      <td>3</td>\n",
       "      <td>11</td>\n",
       "      <td>9</td>\n",
       "      <td>5</td>\n",
       "      <td>4</td>\n",
       "      <td>1</td>\n",
       "      <td>2</td>\n",
       "      <td>0</td>\n",
       "      <td>0</td>\n",
       "    </tr>\n",
       "    <tr>\n",
       "      <th>2</th>\n",
       "      <td>14/08/2021</td>\n",
       "      <td>Burnley</td>\n",
       "      <td>Brighton</td>\n",
       "      <td>1</td>\n",
       "      <td>2</td>\n",
       "      <td>A</td>\n",
       "      <td>1</td>\n",
       "      <td>0</td>\n",
       "      <td>H</td>\n",
       "      <td>D Coote</td>\n",
       "      <td>...</td>\n",
       "      <td>3</td>\n",
       "      <td>8</td>\n",
       "      <td>10</td>\n",
       "      <td>7</td>\n",
       "      <td>7</td>\n",
       "      <td>6</td>\n",
       "      <td>2</td>\n",
       "      <td>1</td>\n",
       "      <td>0</td>\n",
       "      <td>0</td>\n",
       "    </tr>\n",
       "    <tr>\n",
       "      <th>3</th>\n",
       "      <td>14/08/2021</td>\n",
       "      <td>Chelsea</td>\n",
       "      <td>Crystal Palace</td>\n",
       "      <td>3</td>\n",
       "      <td>0</td>\n",
       "      <td>H</td>\n",
       "      <td>2</td>\n",
       "      <td>0</td>\n",
       "      <td>H</td>\n",
       "      <td>J Moss</td>\n",
       "      <td>...</td>\n",
       "      <td>6</td>\n",
       "      <td>1</td>\n",
       "      <td>15</td>\n",
       "      <td>11</td>\n",
       "      <td>5</td>\n",
       "      <td>2</td>\n",
       "      <td>0</td>\n",
       "      <td>0</td>\n",
       "      <td>0</td>\n",
       "      <td>0</td>\n",
       "    </tr>\n",
       "    <tr>\n",
       "      <th>4</th>\n",
       "      <td>14/08/2021</td>\n",
       "      <td>Everton</td>\n",
       "      <td>Southampton</td>\n",
       "      <td>3</td>\n",
       "      <td>1</td>\n",
       "      <td>H</td>\n",
       "      <td>0</td>\n",
       "      <td>1</td>\n",
       "      <td>A</td>\n",
       "      <td>A Madley</td>\n",
       "      <td>...</td>\n",
       "      <td>6</td>\n",
       "      <td>3</td>\n",
       "      <td>13</td>\n",
       "      <td>15</td>\n",
       "      <td>6</td>\n",
       "      <td>8</td>\n",
       "      <td>2</td>\n",
       "      <td>0</td>\n",
       "      <td>0</td>\n",
       "      <td>0</td>\n",
       "    </tr>\n",
       "  </tbody>\n",
       "</table>\n",
       "<p>5 rows × 22 columns</p>\n",
       "</div>"
      ],
      "text/plain": [
       "         Date    HomeTeam        AwayTeam  FTHG  FTAG FTR  HTHG  HTAG HTR  \\\n",
       "0  13/08/2021   Brentford         Arsenal     2     0   H     1     0   H   \n",
       "1  14/08/2021  Man United           Leeds     5     1   H     1     0   H   \n",
       "2  14/08/2021     Burnley        Brighton     1     2   A     1     0   H   \n",
       "3  14/08/2021     Chelsea  Crystal Palace     3     0   H     2     0   H   \n",
       "4  14/08/2021     Everton     Southampton     3     1   H     0     1   A   \n",
       "\n",
       "     Referee  ...  HST  AST  HF  AF  HC  AC  HY  AY  HR  AR  \n",
       "0   M Oliver  ...    3    4  12   8   2   5   0   0   0   0  \n",
       "1  P Tierney  ...    8    3  11   9   5   4   1   2   0   0  \n",
       "2    D Coote  ...    3    8  10   7   7   6   2   1   0   0  \n",
       "3     J Moss  ...    6    1  15  11   5   2   0   0   0   0  \n",
       "4   A Madley  ...    6    3  13  15   6   8   2   0   0   0  \n",
       "\n",
       "[5 rows x 22 columns]"
      ]
     },
     "execution_count": 3,
     "metadata": {},
     "output_type": "execute_result"
    }
   ],
   "source": [
    "df.head()"
   ]
  },
  {
   "cell_type": "code",
   "execution_count": null,
   "id": "bc03f615-ee82-42e4-8d72-3e7dd6887d24",
   "metadata": {},
   "outputs": [],
   "source": [
    "df.columns"
   ]
  },
  {
   "cell_type": "code",
   "execution_count": null,
   "id": "7464410b-e27d-499b-a527-becb24b1729a",
   "metadata": {},
   "outputs": [],
   "source": [
    "df.shape"
   ]
  },
  {
   "cell_type": "code",
   "execution_count": null,
   "id": "ed0efd85-14bb-4b97-885f-87f010720e40",
   "metadata": {},
   "outputs": [],
   "source": [
    "print(len(df['HomeTeam'].unique()))\n",
    "print(len(df['AwayTeam'].unique()))"
   ]
  },
  {
   "cell_type": "code",
   "execution_count": null,
   "id": "1cdac3c9-f92a-448e-8d5e-dddb53bba442",
   "metadata": {},
   "outputs": [],
   "source": [
    "print('Number of games: ',len(df))\n",
    "print('Number of goals scored: ',df['FTHG'].sum() + df['FTAG'].sum())\n"
   ]
  },
  {
   "cell_type": "code",
   "execution_count": null,
   "id": "df4f0b05-5938-478b-931b-86c26147e361",
   "metadata": {},
   "outputs": [],
   "source": [
    "df['Hwin'] = np.where(df['FTHG'] > df['FTAG'],1,0)\n",
    "df['Awin'] = np.where(df['FTHG'] < df['FTAG'],1,0)\n",
    "df['count'] = 1"
   ]
  },
  {
   "cell_type": "code",
   "execution_count": null,
   "id": "19281d20-0ea9-4f0b-b1b3-10e81dbb65ad",
   "metadata": {},
   "outputs": [],
   "source": [
    "home_stats = df.groupby('HomeTeam')['Hwin','FTHG','FTAG','HTHG','HS', 'HST','AST','HF', 'HC', 'HY', 'HR'].sum().reset_index()"
   ]
  },
  {
   "cell_type": "code",
   "execution_count": null,
   "id": "77ab509f-d3c3-49dd-8eed-e8e69b899635",
   "metadata": {},
   "outputs": [],
   "source": [
    "away_stats = df.groupby('AwayTeam')['Awin','FTAG','FTHG','HTAG','AS', 'AST','HST','AF', 'AC', 'AY', 'AR'].sum().reset_index()"
   ]
  },
  {
   "cell_type": "code",
   "execution_count": null,
   "id": "535dbf50-ce0a-4b93-9355-1f2c842a2553",
   "metadata": {},
   "outputs": [],
   "source": [
    "home_stats.rename(columns={'HomeTeam':'Team','FTAG':'HG_Conceded','AST':'HST_Conceded'}, inplace=True)\n",
    "away_stats.rename(columns={'AwayTeam':'Team', 'FTHG':'AG_Conceded', 'HST':'AST_Conceded'}, inplace=True)\n"
   ]
  },
  {
   "cell_type": "code",
   "execution_count": null,
   "id": "be9685c0-9981-404a-8ea9-a59f602fcd2a",
   "metadata": {},
   "outputs": [],
   "source": [
    "# We create a dataset that gathers all the stats for each team\n",
    "team_stats = pd.merge(home_stats, away_stats, on='Team')"
   ]
  },
  {
   "cell_type": "code",
   "execution_count": null,
   "id": "3f483040-07ec-47da-8a7d-03a4fcb51125",
   "metadata": {},
   "outputs": [],
   "source": [
    "team_stats"
   ]
  },
  {
   "cell_type": "code",
   "execution_count": null,
   "id": "06bd8fbf-d9e1-48b4-83b5-bc2eed736639",
   "metadata": {},
   "outputs": [],
   "source": [
    "team_stats['Goals_Scored'] = team_stats['FTHG'] + team_stats['FTAG'] # Total Goals Scored\n",
    "team_stats['Total_wins'] = team_stats['Hwin'] + team_stats['Awin'] # Total wins\n",
    "team_stats['Total_shots'] = team_stats['HS'] + team_stats['AS'] # Total shots attempted\n",
    "team_stats['Shots_on_target'] = team_stats['HST'] + team_stats['AST'] # Total shots on target\n",
    "team_stats['Goals_Conceded'] = team_stats['HG_Conceded'] + team_stats['AG_Conceded'] # Total Goals conceded\n",
    "team_stats['ST_Conceded'] = team_stats['HST_Conceded'] + team_stats['AST_Conceded'] # Total shots conceded"
   ]
  },
  {
   "cell_type": "code",
   "execution_count": null,
   "id": "e64e05cb-b42f-432f-b4a3-246f9db0472d",
   "metadata": {},
   "outputs": [],
   "source": [
    "team_stats.head()"
   ]
  },
  {
   "cell_type": "markdown",
   "id": "4164f327-62fa-4473-b928-736a38ebf922",
   "metadata": {},
   "source": [
    "We would like to see the ranking's evolution during the season."
   ]
  },
  {
   "cell_type": "code",
   "execution_count": null,
   "id": "d98bb5ee-de07-4090-bdd7-9884f8eed736",
   "metadata": {},
   "outputs": [],
   "source": [
    "teams = list(df['HomeTeam'].unique()) # list of the 20 teams\n",
    "game_list = []\n",
    "\n",
    "\n",
    "for pl_team in teams:\n",
    "    home = df[df['HomeTeam'] == pl_team][['Date','HomeTeam','FTR']] # Home Games for one team\n",
    "    away = df[df['AwayTeam'] == pl_team][['Date','AwayTeam','FTR']] # Away Games for one team\n",
    "\n",
    "    home.rename(columns={'HomeTeam':'Team'}, inplace=True)\n",
    "    away.rename(columns={'AwayTeam':'Team'}, inplace=True)\n",
    "    \n",
    "    home['points'] = np.where(home['FTR'] == 'H', 3, np.where(home['FTR'] == 'A',0,1)) \n",
    "    away['points'] = np.where(away['FTR'] == 'A', 3, np.where(away['FTR'] == 'H',0,1))\n",
    "    # Points given according to the result\n",
    "    \n",
    "    game = pd.concat([home,away])\n",
    "    game['Date'] = pd.to_datetime(game['Date'], infer_datetime_format=True)\n",
    "    game.sort_values(by='Date', inplace=True) # Games sorted by date from Day 1 to Day 38\n",
    "    \n",
    "    game['cum_points'] = game['points'].cumsum() # We cumulate the points won after each day. \n",
    "    \n",
    "    game_list.append(game)\n",
    "    "
   ]
  },
  {
   "cell_type": "code",
   "execution_count": null,
   "id": "f1c48492-3c24-4b1f-a0da-e151c6866141",
   "metadata": {},
   "outputs": [],
   "source": [
    "team_cum_pts = pd.concat(game_list) # Games played by each team with the points taken on the given game"
   ]
  },
  {
   "cell_type": "code",
   "execution_count": null,
   "id": "b91e7eb0-9162-4625-b861-f46adaee97a2",
   "metadata": {},
   "outputs": [],
   "source": [
    "team_cum_pts['Day'] = [i for i in range(1,39)]*20\n",
    "# Colonne Day created for the 38 Premier League Games"
   ]
  },
  {
   "cell_type": "code",
   "execution_count": null,
   "id": "1aa83c85-fa3e-4802-9694-1add4902f3c2",
   "metadata": {},
   "outputs": [],
   "source": [
    "team_cum_pts"
   ]
  },
  {
   "cell_type": "code",
   "execution_count": null,
   "id": "1031ad84-09c0-4c43-8b64-8bbf3c371995",
   "metadata": {},
   "outputs": [],
   "source": [
    "team_cum_pts_table = team_cum_pts.pivot_table(columns='Day', values = 'cum_points', index = 'Team')"
   ]
  },
  {
   "cell_type": "code",
   "execution_count": null,
   "id": "3b4cfbba-5193-4df6-9f3f-4ee4b229f17a",
   "metadata": {
    "tags": []
   },
   "outputs": [],
   "source": [
    "team_cum_pts_table"
   ]
  },
  {
   "cell_type": "code",
   "execution_count": null,
   "id": "b4543af5-4509-4a29-bb43-65f8a6e56432",
   "metadata": {},
   "outputs": [],
   "source": [
    "team_cum_pts_table = team_cum_pts_table.reset_index()"
   ]
  },
  {
   "cell_type": "code",
   "execution_count": null,
   "id": "671e7bed-a20e-4c61-b48a-3e75afc3eaa2",
   "metadata": {},
   "outputs": [],
   "source": [
    "plt.figure(figsize=(12,15))\n",
    "for j in range(0,10):\n",
    "    \n",
    "    \n",
    "    plt.plot([i for i in range(1,39)],team_cum_pts_table.iloc[j,:].values[1:],'o-', label = team_cum_pts_table.loc[j].values[0] );\n",
    "    plt.legend(loc= \"upper left\", bbox_to_anchor=(1,1))\n",
    "    plt.xlabel('Day')\n",
    "    plt.ylabel('Points')\n",
    "    \n",
    "for j in range(10,20):\n",
    "    \n",
    "    \n",
    "    plt.plot([i for i in range(1,39)],team_cum_pts_table.iloc[j,:].values[1:],'^-', label = team_cum_pts_table.loc[j].values[0] );\n",
    "    plt.legend(loc= \"upper left\", bbox_to_anchor=(1,1))\n",
    "    "
   ]
  },
  {
   "cell_type": "markdown",
   "id": "11fa3f70-5ca3-4293-990b-538b8e9ac424",
   "metadata": {},
   "source": [
    "What is clear on the graph above is the gap between ManCity and Liverpool with the rest of the league. It seems like during the 2nd part of the season, they played in their own league. The gap with the rest of the league got bigger after each game.\n",
    "\n",
    "Let's focus on what makes these 2 teams so much better than the rest."
   ]
  },
  {
   "cell_type": "markdown",
   "id": "7dfe90de-dd75-4302-abb9-69a382bd38bb",
   "metadata": {
    "tags": []
   },
   "source": [
    "## City and Liverpool's domination"
   ]
  },
  {
   "cell_type": "code",
   "execution_count": null,
   "id": "9b05983d-116c-48c1-a12c-13abce430531",
   "metadata": {
    "tags": []
   },
   "outputs": [],
   "source": [
    "ordered_pts = list(team_cum_pts_table[38].sort_values(ascending=False))"
   ]
  },
  {
   "cell_type": "code",
   "execution_count": null,
   "id": "bcd30509-9c9e-4f36-81cb-7559dca9168c",
   "metadata": {},
   "outputs": [],
   "source": [
    "gaps = []\n",
    "\n",
    "for i in range(len(ordered_pts)- 1):\n",
    "    gap = ordered_pts[0] - ordered_pts[i+1]\n",
    "    gaps.append(gap)"
   ]
  },
  {
   "cell_type": "code",
   "execution_count": null,
   "id": "49f7d67e-bc6c-41d6-84c1-6a70fea28980",
   "metadata": {},
   "outputs": [],
   "source": [
    "gaps"
   ]
  },
  {
   "cell_type": "code",
   "execution_count": null,
   "id": "3f83db95-9371-4b3a-b880-5d6a538ca930",
   "metadata": {},
   "outputs": [],
   "source": [
    "ranked_teams = list(team_cum_pts_table[['Team',38]].sort_values(by=38, ascending=False)['Team'])"
   ]
  },
  {
   "cell_type": "code",
   "execution_count": null,
   "id": "fa039f84-1a65-4d2a-aa3e-31e41db23392",
   "metadata": {},
   "outputs": [],
   "source": [
    "plt.figure(figsize=(25,8))\n",
    "plt.bar(x =ranked_teams[1:] ,height=gaps)\n",
    "plt.title('Gap points with Man City');"
   ]
  },
  {
   "cell_type": "code",
   "execution_count": null,
   "id": "c90dd588-5230-42a3-bff6-9f684b115297",
   "metadata": {},
   "outputs": [],
   "source": [
    "plt.figure(figsize=(15,10))\n",
    "plt.barh(y = team_stats[['Team','Goals_Scored']].sort_values(by='Goals_Scored', ascending=True)['Team'],\n",
    "        width=team_stats[['Team','Goals_Scored']].sort_values(by='Goals_Scored', ascending=True)['Goals_Scored'])\n",
    "plt.xlabel('Goals scored');"
   ]
  },
  {
   "cell_type": "code",
   "execution_count": null,
   "id": "3c907ef6-b75a-4dd0-b080-b59826560b23",
   "metadata": {},
   "outputs": [],
   "source": [
    "plt.figure(figsize=(20,10))\n",
    "plt.barh(y = team_stats[['Team','Goals_Conceded']].sort_values(by='Goals_Conceded', ascending=False)['Team'],\n",
    "        width=team_stats[['Team','Goals_Conceded']].sort_values(by='Goals_Conceded', ascending=False)['Goals_Conceded'])\n",
    "plt.xlabel('Goals conceded');"
   ]
  },
  {
   "cell_type": "code",
   "execution_count": null,
   "id": "4eb73cb5-e377-4694-87c5-c4fe1c617e89",
   "metadata": {},
   "outputs": [],
   "source": [
    "plt.figure(figsize=(20,10))\n",
    "plt.barh(y = team_stats[['Team','Shots_on_target']].sort_values(by='Shots_on_target', ascending=True)['Team'],\n",
    "        width=team_stats[['Team','Shots_on_target']].sort_values(by='Shots_on_target', ascending=True)['Shots_on_target'])\n",
    "plt.xlabel('Number of shots on target');"
   ]
  },
  {
   "cell_type": "code",
   "execution_count": null,
   "id": "2c227129-46df-4404-9484-a2aa4824a07b",
   "metadata": {},
   "outputs": [],
   "source": [
    "plt.figure(figsize=(20,10))\n",
    "plt.barh(y = team_stats[['Team','ST_Conceded']].sort_values(by='ST_Conceded', ascending=False)['Team'],\n",
    "        width=team_stats[['Team','ST_Conceded']].sort_values(by='ST_Conceded', ascending=False)['ST_Conceded'])\n",
    "plt.title('Number of shots on target conceded');"
   ]
  },
  {
   "cell_type": "markdown",
   "id": "613b85d4-a644-47f2-8425-3ade324b987b",
   "metadata": {},
   "source": [
    "Liverpool and ManCity dominated the season in every statistical metric. Whether offensively or defensively, they have been above the league. They scored much more, they defensed much better, they have been more precise on their shots and they allowed less big opportunities for their opponents. "
   ]
  },
  {
   "cell_type": "markdown",
   "id": "b3062028-de52-498e-bd75-5112e32833e4",
   "metadata": {
    "tags": []
   },
   "source": [
    "## The impact of leading at Half Time ?"
   ]
  },
  {
   "cell_type": "markdown",
   "id": "8d12d394-06d3-40c0-8df0-5d970f89cdf5",
   "metadata": {},
   "source": [
    "Another aspect that I would like to focus on is the 2nd half. In fact, a lot of games are won in the 2nd half because coaches can adjust their teams. The players are also more tired, which lead to more mistakes. "
   ]
  },
  {
   "cell_type": "code",
   "execution_count": null,
   "id": "537f91fd-ba6a-4ad2-b25b-d17738ad7ffe",
   "metadata": {},
   "outputs": [],
   "source": [
    "ht_ft_score = df[['HomeTeam','AwayTeam','FTHG','FTAG','HTHG','HTAG','FTR']]"
   ]
  },
  {
   "cell_type": "code",
   "execution_count": null,
   "id": "3986b14d-3e0c-40ef-b686-0112c1083dbb",
   "metadata": {},
   "outputs": [],
   "source": [
    "ht_ft_score['HTR'] = np.where(ht_ft_score['HTHG'] > ht_ft_score['HTAG'],'H', np.where(ht_ft_score['HTHG'] < ht_ft_score['HTAG'],'A','D'))"
   ]
  },
  {
   "cell_type": "code",
   "execution_count": null,
   "id": "ca3bb08f-8cf0-489c-85b5-a0820164711c",
   "metadata": {},
   "outputs": [],
   "source": [
    "ht_ft_score"
   ]
  },
  {
   "cell_type": "code",
   "execution_count": null,
   "id": "a492c7d9-c50d-45aa-9ee6-1c7473442556",
   "metadata": {},
   "outputs": [],
   "source": [
    "ht_ft_score[ht_ft_score['FTR'] == ht_ft_score['HTR']]"
   ]
  },
  {
   "cell_type": "markdown",
   "id": "060e739f-a6c4-487d-aa3f-0ffa16dda527",
   "metadata": {},
   "source": [
    "For 59% of the games, the leading team at Half Time won the game. Though, we still have 41% of the game that were decided during the second half. "
   ]
  },
  {
   "cell_type": "code",
   "execution_count": null,
   "id": "54bb549d-8826-4bd7-84a9-c1f295e42643",
   "metadata": {},
   "outputs": [],
   "source": [
    "ht_ft_score[ht_ft_score['HTR'] != ht_ft_score['FTR']]"
   ]
  },
  {
   "cell_type": "code",
   "execution_count": null,
   "id": "d0e86a02-d675-4cbb-9166-ccd4d2816a0b",
   "metadata": {},
   "outputs": [],
   "source": [
    "changing_score = ht_ft_score[((ht_ft_score['HTR'] == 'H') & (ht_ft_score['FTR'] == 'A')) | \n",
    "            ((ht_ft_score['HTR'] == 'A') & (ht_ft_score['FTR'] == 'H')) |\n",
    "           ((ht_ft_score['HTR'] == 'D') & (ht_ft_score['FTR'] == 'H')) |\n",
    "           ((ht_ft_score['HTR'] == 'D') & (ht_ft_score['FTR'] == 'A')) |\n",
    "            ((ht_ft_score['HTR'] == 'H') & (ht_ft_score['FTR'] == 'D')) |\n",
    "            ((ht_ft_score['HTR'] == 'A') & (ht_ft_score['FTR'] == 'D'))]  \n",
    "\n",
    "#changing_score = ht_ft_score[ht_ft_score['HTR'] != ht_ft_score['FTR']]\n",
    "# Here, we created a dataset that lists all the games with the Half time scored and the Full time score different. "
   ]
  },
  {
   "cell_type": "code",
   "execution_count": null,
   "id": "b087ff79-d39e-49a8-a716-c4aa70c1142e",
   "metadata": {},
   "outputs": [],
   "source": [
    "changing_score"
   ]
  },
  {
   "cell_type": "markdown",
   "id": "8ee16f96-6293-4fb0-8011-7dbe2f891523",
   "metadata": {},
   "source": [
    "Now, we are going to determine which team has won the most points the 2nd half, depending on if they played at home or away. The points won during the 2nd Half depends on the score at HT.\n",
    "\n",
    "- If a team was leading at HT and lost at the end, they lost 3pts and the opponent won 3pts.\n",
    "- If a team was leading at HT and draw at the end, they lost 2pts and the opponent won 1pt.\n",
    "\n",
    "We will make the case for every scenario possible as long as the HT and FT results are different."
   ]
  },
  {
   "cell_type": "code",
   "execution_count": null,
   "id": "fc211e26-ac66-4a37-9681-41b00aac6d1e",
   "metadata": {},
   "outputs": [],
   "source": [
    "changing_score['Pts_Taken_2ndH_Home'] = np.where((changing_score['HTR'] == 'H') & (changing_score['FTR'] == 'A'),-3,\n",
    "                                        np.where((changing_score['HTR'] == 'H') & (changing_score['FTR'] =='D'),-2,\n",
    "                                        np.where((changing_score['HTR'] == 'D') & (changing_score['FTR'] == 'H'),2,\n",
    "                                        np.where((changing_score['HTR'] == 'D') & (changing_score['FTR'] == 'A'),-1,\n",
    "                                        np.where((changing_score['HTR'] == 'A') & (changing_score['FTR'] == 'D'),1,3)))))\n",
    "\n",
    "\n",
    "changing_score['Pts_Taken_2ndH_Away'] = np.where((changing_score['HTR'] == 'H') & (changing_score['FTR'] == 'A'),3,\n",
    "                                        np.where((changing_score['HTR'] == 'H') & (changing_score['FTR'] =='D'),1,\n",
    "                                        np.where((changing_score['HTR'] == 'D') & (changing_score['FTR'] == 'H'),-1,\n",
    "                                        np.where((changing_score['HTR'] == 'D') & (changing_score['FTR'] == 'A'),2,\n",
    "                                        np.where((changing_score['HTR'] == 'A') & (changing_score['FTR'] == 'D'),-2,-3)))))"
   ]
  },
  {
   "cell_type": "code",
   "execution_count": null,
   "id": "c547dafa-5800-415c-8f87-97ab771566c7",
   "metadata": {},
   "outputs": [],
   "source": [
    "changing_score"
   ]
  },
  {
   "cell_type": "code",
   "execution_count": null,
   "id": "1b1031cb-10fe-444f-8859-cab184dfe13c",
   "metadata": {},
   "outputs": [],
   "source": [
    "pts_won_2nd_H = changing_score.groupby('HomeTeam')['Pts_Taken_2ndH_Home'].sum()\n",
    "pts_won_2nd_A = changing_score.groupby('AwayTeam')['Pts_Taken_2ndH_Away'].sum()"
   ]
  },
  {
   "cell_type": "code",
   "execution_count": null,
   "id": "d0f3f2ff-ce5f-42d1-86c6-b86d15e8a4e0",
   "metadata": {},
   "outputs": [],
   "source": [
    "plt.figure(figsize=(15,15))\n",
    "\n",
    "\n",
    "\n",
    "plt.subplot(2,2,1)\n",
    "plt.pie(df['HTR'].value_counts(normalize=True).values, labels=['Draw','Home Team Lead', 'Away Team Lead'], autopct='%1.1f%%',\n",
    "        shadow=True, textprops={'color':'grey'})\n",
    "plt.title(label='Half Time Results', color='grey')\n",
    "\n",
    "plt.subplot(2,2,2)\n",
    "plt.pie(df['FTR'].value_counts(normalize=True).values, labels=['Home Team Wins','Away Team Wins', 'Draw'], autopct='%1.1f%%',\n",
    "        shadow=True, textprops={'color':'grey'})\n",
    "plt.title(label='Full Time Results', color='grey')\n",
    "\n",
    "plt.show()"
   ]
  },
  {
   "cell_type": "markdown",
   "id": "4113ba1f-7d53-4550-858d-2223bf9d06bc",
   "metadata": {},
   "source": [
    "Like we said, games are generally won during the 2nd half because in most games of the 2021-22 season, the games were tied at HT. At the end, in most case, the Home Team won. "
   ]
  },
  {
   "cell_type": "code",
   "execution_count": null,
   "id": "aff06d14-7539-4924-948d-8d8e968e8e4d",
   "metadata": {},
   "outputs": [],
   "source": [
    "plt.figure(figsize=(20,10))\n",
    "plt.subplot(131)\n",
    "plt.pie(df.loc[df['HTR'] == 'H']['FTR'].value_counts(normalize=True), labels=['HomeTeam Wins', 'Draw', 'AwayTeam Wins'],\n",
    "        autopct='%1.1f%%',\n",
    "        shadow=True, textprops={'color':'grey'})\n",
    "plt.title(label='FT Result when HomeTeam leads at HT', color='grey')\n",
    "\n",
    "plt.subplot(132)\n",
    "plt.pie(df.loc[df['HTR'] == 'D']['FTR'].value_counts(normalize=True), labels=['HomeTeam Wins', 'Draw', 'AwayTeam Wins'],\n",
    "        autopct='%1.1f%%',\n",
    "        shadow=True, textprops={'color':'grey'})\n",
    "plt.title(label='FT Result when draw at HT', color='grey')\n",
    "\n",
    "plt.subplot(133)\n",
    "plt.pie(df.loc[df['HTR'] == 'A']['FTR'].value_counts(normalize=True), labels=['AwayTeam Wins', 'Draw', 'HomeTeam Wins'],\n",
    "        autopct='%1.1f%%',\n",
    "        shadow=True, textprops={'color':'grey'})\n",
    "plt.title(label='FT Result when AwayTeam leads at HT', color='grey')\n",
    "\n",
    "plt.show()\n"
   ]
  },
  {
   "cell_type": "markdown",
   "id": "30cc82a3-9d64-4d10-a883-2b916029d99b",
   "metadata": {},
   "source": [
    "These 3 pies show that in most case, when a team leads at HT, whether at home or away, they win the game. When the game is tied at HT, usually the home team wins. "
   ]
  },
  {
   "cell_type": "code",
   "execution_count": null,
   "id": "12a79893-1ef8-4ae5-9d85-57f8054db2c4",
   "metadata": {},
   "outputs": [],
   "source": [
    "plt.figure(figsize=(15,20))\n",
    "\n",
    "plt.subplot(221)\n",
    "pts_won_2nd_H.plot(kind='barh',)\n",
    "plt.ylabel('')\n",
    "plt.xticks(rotation=80)\n",
    "plt.title('Points won in 2nd Half when playing at Home')\n",
    "\n",
    "plt.subplot(222)\n",
    "pts_won_2nd_A.plot(kind='barh')\n",
    "plt.ylabel('')\n",
    "plt.xticks(rotation=80)\n",
    "plt.title('Points won in 2nd Half when playing Away')\n",
    "\n",
    "\n",
    "\n",
    "\n",
    "plt.show()\n"
   ]
  },
  {
   "cell_type": "code",
   "execution_count": null,
   "id": "b55a9d32-6ac5-4ddc-b6cf-8a7f5abe61c8",
   "metadata": {},
   "outputs": [],
   "source": [
    "(pts_won_2nd_A + pts_won_2nd_H).plot(kind='barh', figsize=(10,10))\n",
    "plt.xlabel('')\n",
    "plt.title('Points won in 2nd Half')"
   ]
  },
  {
   "cell_type": "markdown",
   "id": "b9b9211d-5a0f-44a1-9bbd-97712961d5b9",
   "metadata": {},
   "source": [
    "A couple of points can be made from these graphs:\n",
    "\n",
    "-  Liverpool and ManCity are the 2 teams that took the most points in the 2nd half after drawing or losing at HT. This show their superiority in several aspects of the game such as resilience and mental strenght. They also have deeper teams and their coach can make impactful substitutions. \n",
    "\n",
    "- Arsenal might have missed the 4th place because of their performances away. While they have been able to win many points in the 2nd half at home, they gave up points when playing away after leading or drawing at HT.\n",
    "\n",
    "- Southampton almost got relegated and this is probably because they were a very bad 2nd half team. They managed to lose more than 10 pts after leading or drawing at HT. "
   ]
  },
  {
   "cell_type": "markdown",
   "id": "82f22862-1cd8-4b78-ada4-852184fc881f",
   "metadata": {},
   "source": [
    "## Clusetering"
   ]
  },
  {
   "cell_type": "markdown",
   "id": "cb92e812-ea80-4165-b531-0181fa382b8e",
   "metadata": {},
   "source": [
    "Now, I will try to classify the team in group according to their performances over the season. I already established that Man City and Liverpool are above the rest, but what about the other teams between themselves. "
   ]
  },
  {
   "cell_type": "code",
   "execution_count": null,
   "id": "10c88d6a-227c-44d1-81f1-8c3c30581f2c",
   "metadata": {},
   "outputs": [],
   "source": [
    "team_stats.head()"
   ]
  },
  {
   "cell_type": "code",
   "execution_count": null,
   "id": "289b2512-a79d-43de-8815-112db1a45d8b",
   "metadata": {},
   "outputs": [],
   "source": [
    "# Select the optimal number of cluster\n",
    "from sklearn.preprocessing import StandardScaler\n",
    "from sklearn.cluster import KMeans\n",
    "X = team_stats.iloc[:,1:]\n",
    "sc = StandardScaler()\n",
    "X_norm = sc.fit_transform(X)\n",
    "\n",
    "wcss = []\n",
    "k = []  \n",
    "\n",
    "for i in range(1,11):\n",
    "    kmeans = KMeans(n_clusters=i, random_state=0)\n",
    "    kmeans.fit(X_norm)\n",
    "    \n",
    "    wcss.append(kmeans.inertia_)\n",
    "    k.append(i)\n",
    "\n",
    "    print(f\"for {k[i-1]} cluster, wcss --> {wcss[i-1]}\")"
   ]
  },
  {
   "cell_type": "code",
   "execution_count": null,
   "id": "c9c15538-03af-41a4-a20a-bab932024c85",
   "metadata": {},
   "outputs": [],
   "source": [
    "plt.plot(k,wcss);"
   ]
  },
  {
   "cell_type": "markdown",
   "id": "6ddd072e-3100-47e7-ae74-42999164e340",
   "metadata": {},
   "source": [
    "With the plot, we can determine graphically that the optimal k is either 3 or 4. We will take k = 4 "
   ]
  },
  {
   "cell_type": "code",
   "execution_count": null,
   "id": "9084732c-3957-4acd-8ec9-0cd21b91097d",
   "metadata": {},
   "outputs": [],
   "source": [
    "sc = StandardScaler()\n",
    "X_norm = sc.fit_transform(X)"
   ]
  },
  {
   "cell_type": "code",
   "execution_count": null,
   "id": "497d82f8-1016-4514-8b81-ad92a2f57be8",
   "metadata": {},
   "outputs": [],
   "source": [
    "kmeans = KMeans(n_clusters=3, random_state=0)\n",
    "kmeans.fit(X_norm)"
   ]
  },
  {
   "cell_type": "code",
   "execution_count": null,
   "id": "e9c5fcdf-bd3a-4d95-9a05-6ad8012a3620",
   "metadata": {},
   "outputs": [],
   "source": [
    "team_stats.insert(1,'no_cluster', kmeans.labels_)"
   ]
  },
  {
   "cell_type": "code",
   "execution_count": null,
   "id": "864011f9-ec3a-4f3d-bec0-afe5d9897051",
   "metadata": {},
   "outputs": [],
   "source": [
    "team_stats.head()"
   ]
  },
  {
   "cell_type": "code",
   "execution_count": null,
   "id": "13ec8714-6a93-4e00-ab92-5e3b403cc714",
   "metadata": {},
   "outputs": [],
   "source": [
    "team_stats['final_pts'] = team_cum_pts_table[38]"
   ]
  },
  {
   "cell_type": "code",
   "execution_count": null,
   "id": "1dc28c2b-0d55-497d-bfe0-8e8f4dfa0d62",
   "metadata": {},
   "outputs": [],
   "source": [
    "a = team_stats[['Team','final_pts']].sort_values(ascending=False, by = 'final_pts')"
   ]
  },
  {
   "cell_type": "code",
   "execution_count": null,
   "id": "7d2df92c-0e24-4f6d-907b-862a32ffd3eb",
   "metadata": {},
   "outputs": [],
   "source": [
    "plt.figure(figsize=(15,10))\n",
    "\n",
    "sns.barplot(y =a['Team'], \n",
    "            x =a['final_pts'], \n",
    "            hue=team_stats['no_cluster'],\n",
    "           orient='h')\n",
    "plt.show()"
   ]
  },
  {
   "cell_type": "markdown",
   "id": "2f98f387-50b7-4b3a-b69b-18dd237478ef",
   "metadata": {},
   "source": [
    "Like expected, the clusters are created according to the points won during the season. Thus, Liverpool and City form their own created because they finished far ahead of the rest. Chelsea, Tottenham and Arsenal are in the same cluster (cluster n°3) as they finished respectively 3rd, 4th and 5th. Surprisingly, West Ham is also the cluster n°3 although they finished below Man United. However, looking at basic stats, we noticed that West Ham have a better defence and offense that Man United. "
   ]
  },
  {
   "cell_type": "code",
   "execution_count": null,
   "id": "d6b07899-b3a0-42a5-bbfb-01c0c0a46d56",
   "metadata": {},
   "outputs": [],
   "source": []
  },
  {
   "cell_type": "code",
   "execution_count": null,
   "id": "55d6c082-9955-46ac-8396-b80f6e92ea5e",
   "metadata": {},
   "outputs": [],
   "source": []
  },
  {
   "cell_type": "code",
   "execution_count": null,
   "id": "7226186c-4853-43b8-9cf6-866f46d54a3e",
   "metadata": {},
   "outputs": [],
   "source": []
  },
  {
   "cell_type": "code",
   "execution_count": null,
   "id": "d55ec906-735e-4a82-9e7d-9dc0120c74e9",
   "metadata": {},
   "outputs": [],
   "source": []
  }
 ],
 "metadata": {
  "kernelspec": {
   "display_name": "Python 3 (ipykernel)",
   "language": "python",
   "name": "python3"
  },
  "language_info": {
   "codemirror_mode": {
    "name": "ipython",
    "version": 3
   },
   "file_extension": ".py",
   "mimetype": "text/x-python",
   "name": "python",
   "nbconvert_exporter": "python",
   "pygments_lexer": "ipython3",
   "version": "3.9.7"
  }
 },
 "nbformat": 4,
 "nbformat_minor": 5
}
